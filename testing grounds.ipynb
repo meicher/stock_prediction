{
 "cells": [
  {
   "cell_type": "code",
   "execution_count": null,
   "metadata": {},
   "outputs": [],
   "source": [
    "#CREATE FXN TO CHANGE DATE INDICIES TO BE ALL EOM FROM BOM\n",
    "def changeBOMtoEOM():\n",
    "    \n",
    "    #may could just be a short lambda fxn\n",
    "    #needs to be run on every pull, same w/ dropping BOM if both sets of dates\n",
    "    pass\n",
    "\n",
    "#SP500 RATIOS: https://data.nasdaq.com/data/MULTPL-sp-500-ratios\n",
    "# INDEX: EOM, MONTHLY\n",
    "# RANGE: \n",
    "# DROP BOM MONTHS FROM THIS (HAS BOTH BOM AND EOM)\n",
    "# other quarterly indicators are available, b/c estimated, such as price to book\n",
    "\n",
    "# SP500 = quandl.get([\n",
    "# 'MULTPL/SP500_PE_RATIO_MONTH',\n",
    "# 'MULTPL/SHILLER_PE_RATIO_MONTH',\n",
    "# 'MULTPL/SP500_DIV_YIELD_MONTH',\n",
    "# 'MULTPL/SP500_EARNINGS_YIELD_MONTH',\n",
    "# 'MULTPL/SP500_EARNINGS_MONTH',\n",
    "# 'MULTPL/SP500_DIV_MONTH',\n",
    "# 'MULTPL/SP500_INFLADJ_MONTH'])\n",
    "\n",
    "#CHECK FOR HIGHLY CORRELATED FIELDS, MAY DROP\n",
    "#sns.heatmap(SP500.corr(),annot=True)\n",
    "\n",
    "#INFLATION RATES: https://data.nasdaq.com/data/RATEINF-inflation-rates\n",
    "# INDEX: EOM, MONTHLY\n",
    "\n",
    "# RATEINF = pd.concat([\n",
    "#     quandl.get([\n",
    "#     \"RATEINF/INFLATION_USA\"\n",
    "#     ])\n",
    "#     ,\n",
    "#     quandl.get([\n",
    "#     \"RATEINF/INFLATION_USA\"\n",
    "#     ],\n",
    "#     transformation='rdiff')\n",
    "# ],axis=1)\n",
    "\n",
    "# RATEINF.plot()\n",
    "\n",
    "# EXAMPLE OF USING nasdaq inherent transformations\n",
    "# pd.concat([nasdaqdatalink.get(\"FRED/GDP\"),nasdaqdatalink.get(\"FRED/GDP\",transformation='rdiff')],axis=1)"
   ]
  }
 ],
 "metadata": {
  "kernelspec": {
   "display_name": "Python 3",
   "language": "python",
   "name": "python3"
  },
  "language_info": {
   "codemirror_mode": {
    "name": "ipython",
    "version": 3
   },
   "file_extension": ".py",
   "mimetype": "text/x-python",
   "name": "python",
   "nbconvert_exporter": "python",
   "pygments_lexer": "ipython3",
   "version": "3.8.5"
  }
 },
 "nbformat": 4,
 "nbformat_minor": 4
}
